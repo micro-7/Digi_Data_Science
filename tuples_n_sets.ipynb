{
 "cells": [
  {
   "attachments": {},
   "cell_type": "markdown",
   "metadata": {},
   "source": [
    "- ### tuple\n",
    "    - python default sequential data strcuture\n",
    "    - indexed, ordered, heterogenous\n",
    "    - 'immutable'\n",
    "    - represented by '()'\n",
    "    - 'tuple' is faster than the 'list'\n",
    "    - 'tuple()' convert any sequence to tuple\n",
    "\n",
    "- ### set\n",
    "    - unordered unindexed, mutable\n",
    "    - 'unique elements' only\n",
    "    - can store only immmutable elements\n",
    "    - represented by { }\n",
    "    - set() convert any sequence to set"
   ]
  },
  {
   "attachments": {},
   "cell_type": "markdown",
   "metadata": {},
   "source": [
    "### tuple"
   ]
  },
  {
   "cell_type": "code",
   "execution_count": 1,
   "metadata": {},
   "outputs": [
    {
     "name": "stdout",
     "output_type": "stream",
     "text": [
      "(1, 2, 3)\n",
      "<class 'tuple'>\n"
     ]
    }
   ],
   "source": [
    "x = (1,2,3)\n",
    "print(x)\n",
    "print(type(x))"
   ]
  },
  {
   "cell_type": "code",
   "execution_count": 8,
   "metadata": {},
   "outputs": [
    {
     "name": "stdout",
     "output_type": "stream",
     "text": [
      "(12, 13, 14)\n",
      "<class 'tuple'>\n"
     ]
    }
   ],
   "source": [
    "a=12, 13, 14\n",
    "print(a)\n",
    "print(type(a))"
   ]
  },
  {
   "cell_type": "code",
   "execution_count": 3,
   "metadata": {},
   "outputs": [
    {
     "name": "stdout",
     "output_type": "stream",
     "text": [
      "(13,)\n",
      "<class 'tuple'>\n"
     ]
    }
   ],
   "source": [
    "#single element tuple\n",
    "b=(13,)\n",
    "print(b)\n",
    "print(type(b))\n",
    "\n"
   ]
  },
  {
   "cell_type": "code",
   "execution_count": 10,
   "metadata": {},
   "outputs": [
    {
     "name": "stdout",
     "output_type": "stream",
     "text": [
      "12 13 14\n"
     ]
    }
   ],
   "source": [
    "# tuple unpacking\n",
    "x1, x2, x3 = a #has 3 elements\n",
    "print(x1,x2,x3)"
   ]
  },
  {
   "cell_type": "code",
   "execution_count": 13,
   "metadata": {},
   "outputs": [
    {
     "name": "stdout",
     "output_type": "stream",
     "text": [
      "1 3 [4, 5, 6, 7, 8, 9, 16]\n"
     ]
    }
   ],
   "source": [
    "a=(1,3,4,5,6,7,8,9,16)\n",
    "a1, a2, *a3 = a #a3 will get the remaining elements as a list\n",
    "print(a1,a2,a3)"
   ]
  },
  {
   "cell_type": "code",
   "execution_count": 16,
   "metadata": {},
   "outputs": [
    {
     "data": {
      "text/plain": [
       "(6, 7, 8, 9, 16)"
      ]
     },
     "execution_count": 16,
     "metadata": {},
     "output_type": "execute_result"
    }
   ],
   "source": [
    "a[-5:] #slicing"
   ]
  },
  {
   "cell_type": "code",
   "execution_count": 17,
   "metadata": {},
   "outputs": [
    {
     "name": "stdout",
     "output_type": "stream",
     "text": [
      "1\n",
      "3\n",
      "4\n",
      "5\n",
      "6\n",
      "7\n",
      "8\n",
      "9\n",
      "16\n"
     ]
    }
   ],
   "source": [
    "for i in a:\n",
    "    print(i)"
   ]
  },
  {
   "cell_type": "code",
   "execution_count": 20,
   "metadata": {},
   "outputs": [
    {
     "name": "stdout",
     "output_type": "stream",
     "text": [
      "4\n",
      "3\n",
      "0\n",
      "2\n",
      "7\n"
     ]
    }
   ],
   "source": [
    "x = (1,2,3,1,3,1,2,3,1,2,3)\n",
    "print(x.count(1))\n",
    "print(x.count(2))\n",
    "print(x.count(5))\n",
    "print(x.index(3)) # 3 is the value to search\n",
    "print(x.index(3,5)) # 3 is the value to search and 5 is the starting index"
   ]
  },
  {
   "cell_type": "code",
   "execution_count": 21,
   "metadata": {},
   "outputs": [
    {
     "name": "stdout",
     "output_type": "stream",
     "text": [
      "(1, 2, 3)\n",
      "[1, 2, 3]\n"
     ]
    }
   ],
   "source": [
    "a = [1,2,3]\n",
    "at = tuple(a) #list to tuple\n",
    "al = list(at) #tuple to list\n",
    "print(at)\n",
    "print(al)"
   ]
  },
  {
   "attachments": {},
   "cell_type": "markdown",
   "metadata": {},
   "source": [
    "### list"
   ]
  },
  {
   "cell_type": "code",
   "execution_count": 22,
   "metadata": {},
   "outputs": [
    {
     "name": "stdout",
     "output_type": "stream",
     "text": [
      "{1, 2, 3}\n",
      "<class 'set'>\n"
     ]
    }
   ],
   "source": [
    "s = {1,2,3,1,2,3,1,2,3}\n",
    "print(s)\n",
    "print(type(s))"
   ]
  },
  {
   "cell_type": "code",
   "execution_count": 23,
   "metadata": {},
   "outputs": [
    {
     "name": "stdout",
     "output_type": "stream",
     "text": [
      "set()\n",
      "<class 'set'>\n"
     ]
    }
   ],
   "source": [
    "s1 = set() #empty set\n",
    "print(s1)\n",
    "print(type(s1))"
   ]
  },
  {
   "cell_type": "code",
   "execution_count": 25,
   "metadata": {},
   "outputs": [
    {
     "name": "stdout",
     "output_type": "stream",
     "text": [
      "{'all', 'hello', 3, 4}\n"
     ]
    }
   ],
   "source": [
    "s1.add(3)\n",
    "s1.add(4)\n",
    "s1.add('hello')\n",
    "s1.add('all')\n",
    "s1.add(3)\n",
    "print (s1)"
   ]
  },
  {
   "cell_type": "code",
   "execution_count": 26,
   "metadata": {},
   "outputs": [
    {
     "name": "stdout",
     "output_type": "stream",
     "text": [
      "{'all', 'hello', 4}\n"
     ]
    }
   ],
   "source": [
    "s1.discard(3) #remove 3 from s1 (remove() can also be used)\n",
    "print(s1)"
   ]
  },
  {
   "cell_type": "code",
   "execution_count": 29,
   "metadata": {},
   "outputs": [
    {
     "name": "stdout",
     "output_type": "stream",
     "text": [
      "all\n",
      "hello\n",
      "4\n"
     ]
    }
   ],
   "source": [
    "for i in s1:\n",
    "    print(i)"
   ]
  },
  {
   "cell_type": "code",
   "execution_count": 32,
   "metadata": {},
   "outputs": [
    {
     "name": "stdout",
     "output_type": "stream",
     "text": [
      "{'h', 'm', 'n', 't', 'i', 'a', 'r', 'o', 'd', ' '}\n"
     ]
    }
   ],
   "source": [
    "name = set('mihir tandon')\n",
    "print(name)"
   ]
  },
  {
   "cell_type": "code",
   "execution_count": 33,
   "metadata": {},
   "outputs": [],
   "source": [
    "# set operations\n",
    "group1 = {'apple','banana','orange','grapes','mango','pineapple','watermelon'}\n",
    "group2 = {'apple','grapes','mango','pineapple','watermelon','kiwi','papaya','cherry'}"
   ]
  },
  {
   "cell_type": "code",
   "execution_count": 34,
   "metadata": {},
   "outputs": [
    {
     "name": "stdout",
     "output_type": "stream",
     "text": [
      "{'banana', 'orange', 'apple', 'kiwi', 'papaya', 'watermelon', 'pineapple', 'cherry', 'mango', 'grapes'}\n",
      "{'banana', 'orange', 'apple', 'kiwi', 'papaya', 'watermelon', 'pineapple', 'cherry', 'mango', 'grapes'}\n"
     ]
    }
   ],
   "source": [
    "#union\n",
    "print(group1 | group2) #all elements from both the sets\n",
    "print(group1.union(group2))"
   ]
  },
  {
   "cell_type": "code",
   "execution_count": 35,
   "metadata": {},
   "outputs": [
    {
     "name": "stdout",
     "output_type": "stream",
     "text": [
      "{'apple', 'watermelon', 'pineapple', 'mango', 'grapes'}\n",
      "{'apple', 'watermelon', 'pineapple', 'mango', 'grapes'}\n"
     ]
    }
   ],
   "source": [
    "#intersection\n",
    "print(group1 & group2) #common elements from both the sets\n",
    "print(group1.intersection(group2))"
   ]
  },
  {
   "cell_type": "code",
   "execution_count": 36,
   "metadata": {},
   "outputs": [
    {
     "name": "stdout",
     "output_type": "stream",
     "text": [
      "{'banana', 'orange'}\n",
      "{'kiwi', 'cherry', 'papaya'}\n",
      "{'kiwi', 'cherry', 'papaya'}\n"
     ]
    }
   ],
   "source": [
    "#difference\n",
    "print(group1 - group2) # elements in group1 but not in group2\n",
    "print(group2 - group1) # elements in group2 but not in group1\n",
    "print(group2.difference(group1))"
   ]
  },
  {
   "cell_type": "code",
   "execution_count": 37,
   "metadata": {},
   "outputs": [
    {
     "name": "stdout",
     "output_type": "stream",
     "text": [
      "{'banana', 'orange', 'kiwi', 'papaya', 'cherry'}\n",
      "{'banana', 'orange', 'kiwi', 'papaya', 'cherry'}\n"
     ]
    }
   ],
   "source": [
    "#symetric difference\n",
    "print(group1 ^ group2) #elements in group1 or group2 but not in both\n",
    "print(group1.symmetric_difference(group2))"
   ]
  },
  {
   "attachments": {},
   "cell_type": "markdown",
   "metadata": {},
   "source": [
    "# task\n",
    "- create a list called reports that will hold report of 7 students.\n",
    "- each stiudent will have a name and marks in 3 subjects\n",
    "- use for loop to display the report to each student"
   ]
  },
  {
   "cell_type": "code",
   "execution_count": 57,
   "metadata": {},
   "outputs": [],
   "source": [
    "reports=[\n",
    "    ['Rohan',[\n",
    "        ['maths', 90],\n",
    "        ['science', 80],\n",
    "        ['english', 90],\n",
    "    ]]\n",
    "]"
   ]
  },
  {
   "cell_type": "code",
   "execution_count": 66,
   "metadata": {},
   "outputs": [
    {
     "name": "stdout",
     "output_type": "stream",
     "text": [
      "Rohan\n",
      "maths 90\n",
      "science 80\n",
      "english 90\n"
     ]
    }
   ],
   "source": [
    "for student in reports:\n",
    "    for detail in student:\n",
    "        if isinstance(detail,str):\n",
    "            print(detail)\n",
    "        if isinstance(detail, list):\n",
    "            for subject in detail:\n",
    "                print(subject[0], subject[1])"
   ]
  },
  {
   "cell_type": "code",
   "execution_count": null,
   "metadata": {},
   "outputs": [],
   "source": []
  },
  {
   "cell_type": "code",
   "execution_count": null,
   "metadata": {},
   "outputs": [],
   "source": []
  }
 ],
 "metadata": {
  "kernelspec": {
   "display_name": "base",
   "language": "python",
   "name": "python3"
  },
  "language_info": {
   "codemirror_mode": {
    "name": "ipython",
    "version": 3
   },
   "file_extension": ".py",
   "mimetype": "text/x-python",
   "name": "python",
   "nbconvert_exporter": "python",
   "pygments_lexer": "ipython3",
   "version": "3.10.10"
  },
  "orig_nbformat": 4
 },
 "nbformat": 4,
 "nbformat_minor": 2
}
