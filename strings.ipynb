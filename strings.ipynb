{
 "cells": [
  {
   "cell_type": "code",
   "execution_count": 3,
   "metadata": {},
   "outputs": [],
   "source": [
    "#string\n",
    "\n",
    "a='this is a string' #single quotes\n",
    "b=\"this is another string\" #double quotes\n",
    "c='''this is a string \n",
    "with two lines''' #triple quotes\n",
    "d=b'this is a byte string' #byte string\n",
    "e = u'this is a \\nunicode string' #unicode string\n",
    "f = r'this is a \\nraw string' #raw strings "
   ]
  },
  {
   "cell_type": "code",
   "execution_count": 4,
   "metadata": {},
   "outputs": [
    {
     "name": "stdout",
     "output_type": "stream",
     "text": [
      "this is a \n",
      "unicode string\n",
      "this is a \\nraw string\n"
     ]
    }
   ],
   "source": [
    "print(e)\n",
    "print(f)"
   ]
  },
  {
   "cell_type": "code",
   "execution_count": 9,
   "metadata": {},
   "outputs": [
    {
     "name": "stdout",
     "output_type": "stream",
     "text": [
      "C:\\Users\\mihir\\projects\\Digi_Data_Science\\t2.py\n"
     ]
    }
   ],
   "source": [
    "path =r'C:\\Users\\mihir\\projects\\Digi_Data_Science\\t2.py'\n",
    "print(path)"
   ]
  },
  {
   "cell_type": "code",
   "execution_count": 10,
   "metadata": {},
   "outputs": [
    {
     "name": "stdout",
     "output_type": "stream",
     "text": [
      "10\n"
     ]
    }
   ],
   "source": [
    "x = 10\n",
    "x = str(x) #converted to string\n",
    "print(x)"
   ]
  },
  {
   "cell_type": "code",
   "execution_count": 1,
   "metadata": {},
   "outputs": [
    {
     "name": "stdout",
     "output_type": "stream",
     "text": [
      "str= mihir\n",
      "str[0] m\n",
      "str[1] i\n",
      "str[-1] r\n",
      "str[-2] i\n"
     ]
    }
   ],
   "source": [
    "#accessing string characters in Python\n",
    "str='mihir'\n",
    "print('str=',str)\n",
    "\n",
    "#first character\n",
    "print('str[0]',str[0])\n",
    "\n",
    "#second character\n",
    "print('str[1]',str[1])\n",
    "\n",
    "#last charcter\n",
    "print('str[-1]',str[-1])\n",
    "\n",
    "#second last character\n",
    "print('str[-2]',str[-2])\n"
   ]
  },
  {
   "cell_type": "code",
   "execution_count": 2,
   "metadata": {},
   "outputs": [
    {
     "name": "stdout",
     "output_type": "stream",
     "text": [
      "rta\n"
     ]
    }
   ],
   "source": [
    "#getting a slice\n",
    "s='mihirtandon'\n",
    "slice1=s[4:7]\n",
    "print(slice1)"
   ]
  },
  {
   "cell_type": "code",
   "execution_count": 5,
   "metadata": {},
   "outputs": [
    {
     "name": "stdout",
     "output_type": "stream",
     "text": [
      "vijay\n"
     ]
    }
   ],
   "source": [
    "name = 'vijay deenanath chauhan'\n",
    "slice1=name[:5] #use :5 or [0:5]\n",
    "print(slice1) "
   ]
  },
  {
   "cell_type": "code",
   "execution_count": 10,
   "metadata": {},
   "outputs": [
    {
     "name": "stdout",
     "output_type": "stream",
     "text": [
      "chauhan\n"
     ]
    }
   ],
   "source": [
    "name = 'vijay deenanath chauhan'\n",
    "slice1=name[-7:] \n",
    "print(slice1) "
   ]
  },
  {
   "cell_type": "code",
   "execution_count": 12,
   "metadata": {},
   "outputs": [
    {
     "name": "stdout",
     "output_type": "stream",
     "text": [
      "deenanath\n"
     ]
    }
   ],
   "source": [
    "name = 'vijay deenanath chauhan'\n",
    "slice1=name[6:15] \n",
    "print(slice1) "
   ]
  },
  {
   "cell_type": "code",
   "execution_count": 13,
   "metadata": {},
   "outputs": [
    {
     "data": {
      "text/plain": [
       "'vjydeaahcahn'"
      ]
     },
     "execution_count": 13,
     "metadata": {},
     "output_type": "execute_result"
    }
   ],
   "source": [
    "name[::2] # every second character"
   ]
  },
  {
   "cell_type": "code",
   "execution_count": 14,
   "metadata": {},
   "outputs": [
    {
     "data": {
      "text/plain": [
       "'nahuahc htananeed yajiv'"
      ]
     },
     "execution_count": 14,
     "metadata": {},
     "output_type": "execute_result"
    }
   ],
   "source": [
    "name[::-1] #reverse the string"
   ]
  },
  {
   "attachments": {},
   "cell_type": "markdown",
   "metadata": {},
   "source": [
    "- string methods\n",
    "    - validation methods\n",
    "        - isalpha\n",
    "        - isnumeric\n",
    "        - isalnum\n",
    "        - isspace\n",
    "        - isupper\n",
    "        - islower\n",
    "        - istitle\n",
    "        - startwith\n",
    "        - endwith\n",
    "    - formatting methods\n",
    "        - upper\n",
    "        - lower\n",
    "        - title\n",
    "        - swapcase\n",
    "        - capitalize\n",
    "        - casefold\n",
    "    - utility methods\n",
    "        - count\n",
    "        - find\n",
    "        - replace\n",
    "        - split\n",
    "        - join\n",
    "        - split\n"
   ]
  },
  {
   "cell_type": "code",
   "execution_count": 19,
   "metadata": {},
   "outputs": [
    {
     "name": "stdout",
     "output_type": "stream",
     "text": [
      "invalid\n"
     ]
    }
   ],
   "source": [
    "x = input('enter a number:')\n",
    "if x.isnumeric():\n",
    "    x= int(x)\n",
    "    print(x)\n",
    "else:\n",
    "    print('invalid')"
   ]
  },
  {
   "cell_type": "code",
   "execution_count": 22,
   "metadata": {},
   "outputs": [
    {
     "name": "stdout",
     "output_type": "stream",
     "text": [
      "invalid\n"
     ]
    }
   ],
   "source": [
    "uname=input('enter name')\n",
    "if uname.isalpha():\n",
    "    print('hello', uname)\n",
    "else:\n",
    "    print('invalid')"
   ]
  },
  {
   "cell_type": "code",
   "execution_count": 30,
   "metadata": {},
   "outputs": [
    {
     "name": "stdout",
     "output_type": "stream",
     "text": [
      "invalid\n"
     ]
    }
   ],
   "source": [
    "alnuname=input('enter data')\n",
    "if alnuname.isalnum():\n",
    "    print('ur data is ', alnuname)\n",
    "else:\n",
    "    print('invalid')"
   ]
  },
  {
   "cell_type": "code",
   "execution_count": 31,
   "metadata": {},
   "outputs": [
    {
     "name": "stdout",
     "output_type": "stream",
     "text": [
      "ur data is  %%%%\n"
     ]
    }
   ],
   "source": [
    "alnuname=input('enter data')\n",
    "if not alnuname.isalnum():\n",
    "    print('special char')\n",
    "else:\n",
    "    print('not special')"
   ]
  },
  {
   "cell_type": "code",
   "execution_count": 34,
   "metadata": {},
   "outputs": [
    {
     "name": "stdout",
     "output_type": "stream",
     "text": [
      "Welcome Mr.Anand\n",
      "Welcome Mrs. Vijay\n",
      "Welcome Mrs. Ravi\n",
      "you are note allowed Er. Rajesh\n",
      "Welcome Mr. Ramesh\n"
     ]
    }
   ],
   "source": [
    "names=['Mr.Anand', 'Mrs. Vijay', 'Mrs. Ravi', 'Er. Rajesh', 'Mr. Ramesh']\n",
    "for name in names:\n",
    "    if name.startswith('Mr.') or name.startswith('Mrs.'):\n",
    "        print(f'Welcome {name}')\n",
    "    else:\n",
    "        print(f'you are note allowed {name}')"
   ]
  },
  {
   "cell_type": "code",
   "execution_count": 38,
   "metadata": {},
   "outputs": [
    {
     "name": "stdout",
     "output_type": "stream",
     "text": [
      "abc.txt    text file\n",
      "xyz.txt    text file\n",
      "pqr.txt    text file\n",
      "mno.py     python file\n",
      "def.txt    text file\n"
     ]
    }
   ],
   "source": [
    "files=['abc.txt','xyz.txt','pqr.txt','mno.py','def.txt']\n",
    "for item in files:\n",
    "    if item.endswith('.txt'):\n",
    "        print(f'{item:10} text file')\n",
    "    elif item.endswith('.py'):\n",
    "        print(f'{item:10} python file')\n",
    "    else:\n",
    "        print(f'{item:10} unknown file type')\n"
   ]
  },
  {
   "cell_type": "code",
   "execution_count": 39,
   "metadata": {},
   "outputs": [
    {
     "name": "stdout",
     "output_type": "stream",
     "text": [
      "JOURNEY BEFORE DESTINATION\n",
      "journey before destination\n",
      "Journey Before Destination\n",
      "Journey before destination\n",
      "jOURNEY bEFORE dESTINATION\n",
      "journey before destination\n"
     ]
    }
   ],
   "source": [
    "name = 'Journey Before Destination'\n",
    "print(name.upper())\n",
    "print(name.lower())\n",
    "print(name.title())\n",
    "print(name.capitalize())\n",
    "print(name.swapcase())\n",
    "print(name.casefold())\n"
   ]
  },
  {
   "cell_type": "code",
   "execution_count": 40,
   "metadata": {},
   "outputs": [
    {
     "name": "stdout",
     "output_type": "stream",
     "text": [
      "journey before destination\n"
     ]
    }
   ],
   "source": [
    "name = name.lower()\n",
    "print(name)"
   ]
  },
  {
   "cell_type": "code",
   "execution_count": 1,
   "metadata": {},
   "outputs": [
    {
     "name": "stdout",
     "output_type": "stream",
     "text": [
      "4\n",
      "4\n"
     ]
    }
   ],
   "source": [
    "s= 'this is an example string , this is a simple string'\n",
    "print(s.count('is'))\n",
    "print(s.count('t'))"
   ]
  },
  {
   "cell_type": "code",
   "execution_count": 2,
   "metadata": {},
   "outputs": [
    {
     "name": "stdout",
     "output_type": "stream",
     "text": [
      "13\n"
     ]
    }
   ],
   "source": [
    "#total vowels\n",
    "tv = s.count('a') + s.count('e') + s.count('i') + s.count('0') + s.count('u')\n",
    "print(tv)"
   ]
  },
  {
   "cell_type": "code",
   "execution_count": 4,
   "metadata": {},
   "outputs": [
    {
     "name": "stdout",
     "output_type": "stream",
     "text": [
      "11\n",
      "2\n"
     ]
    }
   ],
   "source": [
    "print(s.find('example'))\n",
    "print(s.find('is'))\n",
    "print(s.find('is'))"
   ]
  },
  {
   "cell_type": "code",
   "execution_count": null,
   "metadata": {},
   "outputs": [],
   "source": []
  }
 ],
 "metadata": {
  "kernelspec": {
   "display_name": "base",
   "language": "python",
   "name": "python3"
  },
  "language_info": {
   "codemirror_mode": {
    "name": "ipython",
    "version": 3
   },
   "file_extension": ".py",
   "mimetype": "text/x-python",
   "name": "python",
   "nbconvert_exporter": "python",
   "pygments_lexer": "ipython3",
   "version": "3.10.10"
  },
  "orig_nbformat": 4
 },
 "nbformat": 4,
 "nbformat_minor": 2
}
