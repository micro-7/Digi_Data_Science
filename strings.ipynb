{
 "cells": [
  {
   "attachments": {},
   "cell_type": "markdown",
   "metadata": {},
   "source": [
    "# strings\n",
    "- create\n",
    "- indexing\n",
    "- slicing\n",
    "- methods"
   ]
  },
  {
   "cell_type": "code",
   "execution_count": 4,
   "metadata": {},
   "outputs": [],
   "source": [
    "a = 'this is a string' # single quotes\n",
    "b = \"this is another string\" # double quotes\n",
    "c = '''this is a string\n",
    "with two lines''' # triple quotes\n",
    "d = b'this is a byte string' # byte string\n",
    "e = u'this is a \\nunicode string' # unicode string\n",
    "f = r'this is a \\nraw string' # raw string"
   ]
  },
  {
   "cell_type": "code",
   "execution_count": 5,
   "metadata": {},
   "outputs": [
    {
     "name": "stdout",
     "output_type": "stream",
     "text": [
      "this is a \n",
      "unicode string\n",
      "this is a \\nraw string\n"
     ]
    }
   ],
   "source": [
    "print(e)\n",
    "print(f)"
   ]
  },
  {
   "cell_type": "code",
   "execution_count": 13,
   "metadata": {},
   "outputs": [
    {
     "name": "stdout",
     "output_type": "stream",
     "text": [
      "C:\\Users\\ZAID\\Documents\\coding\\2023 JUN PYDS  930 FT\\t2.py\n"
     ]
    }
   ],
   "source": [
    "path = r'C:\\Users\\ZAID\\Documents\\coding\\2023 JUN PYDS  930 FT\\t2.py'\n",
    "print(path)"
   ]
  },
  {
   "cell_type": "code",
   "execution_count": 14,
   "metadata": {},
   "outputs": [
    {
     "name": "stdout",
     "output_type": "stream",
     "text": [
      "10\n"
     ]
    }
   ],
   "source": [
    "x = 10\n",
    "x = str(x) # converted to string\n",
    "print(x)"
   ]
  },
  {
   "attachments": {},
   "cell_type": "markdown",
   "metadata": {},
   "source": [
    "- string is sequence of characters\n",
    "- string is immutable\n",
    "- string is ordered data\n",
    "- string accepts indexing and slicing"
   ]
  },
  {
   "cell_type": "code",
   "execution_count": 1,
   "metadata": {},
   "outputs": [],
   "source": [
    "name = 'Vijay Deenanath Chauhan'"
   ]
  },
  {
   "cell_type": "code",
   "execution_count": 3,
   "metadata": {},
   "outputs": [
    {
     "data": {
      "text/plain": [
       "'Vijay'"
      ]
     },
     "execution_count": 3,
     "metadata": {},
     "output_type": "execute_result"
    }
   ],
   "source": [
    "name[:5] # first 5 characters"
   ]
  },
  {
   "cell_type": "code",
   "execution_count": 4,
   "metadata": {},
   "outputs": [
    {
     "data": {
      "text/plain": [
       "23"
      ]
     },
     "execution_count": 4,
     "metadata": {},
     "output_type": "execute_result"
    }
   ],
   "source": [
    "len(name) # length of string"
   ]
  },
  {
   "cell_type": "code",
   "execution_count": 7,
   "metadata": {},
   "outputs": [
    {
     "data": {
      "text/plain": [
       "'Chauhan'"
      ]
     },
     "execution_count": 7,
     "metadata": {},
     "output_type": "execute_result"
    }
   ],
   "source": [
    "name[-7:] # last 7 characters"
   ]
  },
  {
   "cell_type": "code",
   "execution_count": 8,
   "metadata": {},
   "outputs": [],
   "source": [
    "fname = name[:5]\n",
    "lname = name[-7:]"
   ]
  },
  {
   "cell_type": "code",
   "execution_count": 10,
   "metadata": {},
   "outputs": [
    {
     "data": {
      "text/plain": [
       "'VjyDeaahCahn'"
      ]
     },
     "execution_count": 10,
     "metadata": {},
     "output_type": "execute_result"
    }
   ],
   "source": [
    "name[::2] # every second character"
   ]
  },
  {
   "cell_type": "code",
   "execution_count": 11,
   "metadata": {},
   "outputs": [
    {
     "data": {
      "text/plain": [
       "'nahuahC htananeeD yajiV'"
      ]
     },
     "execution_count": 11,
     "metadata": {},
     "output_type": "execute_result"
    }
   ],
   "source": [
    "name[::-1] # reverse the string"
   ]
  },
  {
   "attachments": {},
   "cell_type": "markdown",
   "metadata": {},
   "source": [
    "- string methods\n",
    "    - validation methods\n",
    "        - isalpha\n",
    "        - isnumeric\n",
    "        - isalnum\n",
    "        - isspace\n",
    "        - isupper\n",
    "        - islower\n",
    "        - istitle\n",
    "        - startswith\n",
    "        - endswith\n",
    "    - formatting methods\n",
    "        - upper\n",
    "        - lower\n",
    "        - title\n",
    "        - swapcase\n",
    "        - capitalize\n",
    "        - casefold\n",
    "    - utility methods\n",
    "        - count\n",
    "        - find\n",
    "        - replace\n",
    "        - split\n",
    "        - join\n",
    "        - strip"
   ]
  },
  {
   "cell_type": "code",
   "execution_count": 18,
   "metadata": {},
   "outputs": [
    {
     "name": "stdout",
     "output_type": "stream",
     "text": [
      "91209\n"
     ]
    }
   ],
   "source": [
    "x = input('Enter a number: ')\n",
    "if x.isnumeric():\n",
    "    x = int(x)\n",
    "    print(x)\n",
    "else:\n",
    "    print('Invalid input')"
   ]
  },
  {
   "cell_type": "code",
   "execution_count": 26,
   "metadata": {},
   "outputs": [
    {
     "name": "stdout",
     "output_type": "stream",
     "text": [
      "Hello 10239\n"
     ]
    }
   ],
   "source": [
    "uname = input('Enter your name: ')\n",
    "if uname.isalnum():\n",
    "    print('Hello', uname)\n",
    "else:\n",
    "    print('Invalid input')"
   ]
  },
  {
   "cell_type": "code",
   "execution_count": 30,
   "metadata": {},
   "outputs": [
    {
     "name": "stdout",
     "output_type": "stream",
     "text": [
      "must be some special characters\n"
     ]
    }
   ],
   "source": [
    "uname = input('Enter your name: ')\n",
    "if not uname.isalnum():\n",
    "    print('must be some special characters')\n",
    "else:\n",
    "    print('not so special')"
   ]
  },
  {
   "cell_type": "code",
   "execution_count": 33,
   "metadata": {},
   "outputs": [
    {
     "name": "stdout",
     "output_type": "stream",
     "text": [
      "Welcome Mr. Anand\n",
      "Welcome Mrs. Vijay\n",
      "Welcome Mrs. Ravi\n",
      "You are not allowed Er. Rajesh\n",
      "Welcome Mr. Ramesh\n"
     ]
    }
   ],
   "source": [
    "names = ['Mr. Anand', 'Mrs. Vijay', 'Mrs. Ravi', 'Er. Rajesh', 'Mr. Ramesh']\n",
    "for name in names:\n",
    "    if name.startswith('Mr.') or name.startswith('Mrs.'):\n",
    "        print(f'Welcome {name}')\n",
    "    else:\n",
    "        print(f'You are not allowed {name}')"
   ]
  },
  {
   "cell_type": "code",
   "execution_count": 34,
   "metadata": {},
   "outputs": [
    {
     "name": "stdout",
     "output_type": "stream",
     "text": [
      "abc.txt    text file\n",
      "xyz.doc    unknown file type\n",
      "pqr.py     python file\n",
      "mno.py     python file\n",
      "def.txt    text file\n"
     ]
    }
   ],
   "source": [
    "files = ['abc.txt', 'xyz.doc', 'pqr.py', 'mno.py', 'def.txt']\n",
    "for item in files:\n",
    "    if item.endswith('.txt'):\n",
    "        print(f'{item:10} text file')\n",
    "    elif item.endswith('.py'):\n",
    "        print(f'{item:10} python file')\n",
    "    else:\n",
    "        print(f'{item:10} unknown file type')"
   ]
  },
  {
   "cell_type": "code",
   "execution_count": 38,
   "metadata": {},
   "outputs": [
    {
     "name": "stdout",
     "output_type": "stream",
     "text": [
      "JOURNEY BEFORE DESTINATION\n",
      "journey before destination\n",
      "Journey Before Destination\n",
      "Journey before destination\n",
      "jOURNEY bEFORE dESTINATION\n",
      "journey before destination\n"
     ]
    }
   ],
   "source": [
    "name = 'Journey Before Destination'\n",
    "print(name.upper())\n",
    "print(name.lower())\n",
    "print(name.title())\n",
    "print(name.capitalize())\n",
    "print(name.swapcase())\n",
    "print(name.casefold())"
   ]
  },
  {
   "cell_type": "code",
   "execution_count": 39,
   "metadata": {},
   "outputs": [
    {
     "name": "stdout",
     "output_type": "stream",
     "text": [
      "journey before destination\n"
     ]
    }
   ],
   "source": [
    "name = name.lower()\n",
    "print(name)"
   ]
  },
  {
   "cell_type": "code",
   "execution_count": 43,
   "metadata": {},
   "outputs": [
    {
     "name": "stdout",
     "output_type": "stream",
     "text": [
      "4\n",
      "4\n"
     ]
    }
   ],
   "source": [
    "s = 'this is an example string, this is a simple string'\n",
    "print(s.count('is'))\n",
    "print(s.count('t'))"
   ]
  },
  {
   "cell_type": "code",
   "execution_count": 44,
   "metadata": {},
   "outputs": [
    {
     "name": "stdout",
     "output_type": "stream",
     "text": [
      "13\n"
     ]
    }
   ],
   "source": [
    "# total vowels\n",
    "tv = s.count('a') + s.count('e') + s.count('i') + s.count('o') + s.count('u')\n",
    "print(tv)"
   ]
  },
  {
   "cell_type": "code",
   "execution_count": 49,
   "metadata": {},
   "outputs": [
    {
     "name": "stdout",
     "output_type": "stream",
     "text": [
      "11\n",
      "2\n",
      "5\n",
      "29\n"
     ]
    }
   ],
   "source": [
    "print(s.find('example'))\n",
    "print(s.find('is'))\n",
    "print(s.find('is', 3)) # start searching from index 3\n",
    "print(s.find('is', 6))"
   ]
  },
  {
   "cell_type": "code",
   "execution_count": 50,
   "metadata": {},
   "outputs": [
    {
     "data": {
      "text/plain": [
       "'thwas was an example string, thwas was a simple string'"
      ]
     },
     "execution_count": 50,
     "metadata": {},
     "output_type": "execute_result"
    }
   ],
   "source": [
    "s.replace('is', 'was') # replace all occurences"
   ]
  },
  {
   "cell_type": "code",
   "execution_count": 52,
   "metadata": {},
   "outputs": [
    {
     "data": {
      "text/plain": [
       "'this is an example , this is a simple '"
      ]
     },
     "execution_count": 52,
     "metadata": {},
     "output_type": "execute_result"
    }
   ],
   "source": [
    "s.replace('string', '') # remove string from s"
   ]
  },
  {
   "cell_type": "code",
   "execution_count": 53,
   "metadata": {},
   "outputs": [
    {
     "data": {
      "text/plain": [
       "'this was an example string, this was a simple string'"
      ]
     },
     "execution_count": 53,
     "metadata": {},
     "output_type": "execute_result"
    }
   ],
   "source": [
    "s.replace(' is ', ' was ') # replace only the word 'is'"
   ]
  },
  {
   "cell_type": "code",
   "execution_count": 57,
   "metadata": {},
   "outputs": [
    {
     "name": "stdout",
     "output_type": "stream",
     "text": [
      "['this', 'is', 'an', 'example', 'string,', 'this', 'is', 'a', 'simple', 'string']\n"
     ]
    }
   ],
   "source": [
    "words = s.split()\n",
    "print(words)"
   ]
  },
  {
   "cell_type": "code",
   "execution_count": 58,
   "metadata": {},
   "outputs": [
    {
     "data": {
      "text/plain": [
       "['this is an example string', ' this is a simple string']"
      ]
     },
     "execution_count": 58,
     "metadata": {},
     "output_type": "execute_result"
    }
   ],
   "source": [
    "s.split(',')"
   ]
  },
  {
   "cell_type": "code",
   "execution_count": 66,
   "metadata": {},
   "outputs": [
    {
     "data": {
      "text/plain": [
       "'One Two Three Four Five'"
      ]
     },
     "execution_count": 66,
     "metadata": {},
     "output_type": "execute_result"
    }
   ],
   "source": [
    "words = ['One', 'Two', 'Three', 'Four', 'Five']\n",
    "\n",
    "\" \".join(words)"
   ]
  },
  {
   "cell_type": "code",
   "execution_count": 70,
   "metadata": {},
   "outputs": [
    {
     "name": "stdout",
     "output_type": "stream",
     "text": [
      " zaid \n",
      "\n",
      "zaid\n"
     ]
    }
   ],
   "source": [
    "x = ' zaid \\n'\n",
    "print(x)\n",
    "print(x.strip())"
   ]
  },
  {
   "cell_type": "code",
   "execution_count": null,
   "metadata": {},
   "outputs": [],
   "source": []
  }
 ],
 "metadata": {
  "kernelspec": {
   "display_name": "Python 3",
   "language": "python",
   "name": "python3"
  },
  "language_info": {
   "codemirror_mode": {
    "name": "ipython",
    "version": 3
   },
   "file_extension": ".py",
   "mimetype": "text/x-python",
   "name": "python",
   "nbconvert_exporter": "python",
   "pygments_lexer": "ipython3",
   "version": "3.10.10"
  },
  "orig_nbformat": 4
 },
 "nbformat": 4,
 "nbformat_minor": 2
}
