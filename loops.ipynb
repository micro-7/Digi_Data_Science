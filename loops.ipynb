{
 "cells": [
  {
   "cell_type": "code",
   "execution_count": 4,
   "metadata": {},
   "outputs": [
    {
     "name": "stdout",
     "output_type": "stream",
     "text": [
      "apple\n",
      "cherry\n",
      "banana\n",
      "orange\n",
      "kiwi\n",
      "melon\n",
      "mango\n"
     ]
    }
   ],
   "source": [
    "fruits = ['apple','cherry','banana','orange','kiwi','melon','mango']\n",
    "for fruit in fruits:\n",
    "    print(fruit)"
   ]
  },
  {
   "cell_type": "code",
   "execution_count": 6,
   "metadata": {},
   "outputs": [
    {
     "name": "stdout",
     "output_type": "stream",
     "text": [
      "(0, 'apple')\n",
      "(1, 'cherry')\n",
      "(2, 'banana')\n",
      "(3, 'orange')\n",
      "(4, 'kiwi')\n",
      "(5, 'melon')\n",
      "(6, 'mango')\n"
     ]
    }
   ],
   "source": [
    "#enumerate\n",
    "for item in enumerate(fruits):\n",
    "    print(item)"
   ]
  },
  {
   "cell_type": "code",
   "execution_count": 9,
   "metadata": {},
   "outputs": [
    {
     "name": "stdout",
     "output_type": "stream",
     "text": [
      "0 => apple\n",
      "1 => cherry\n",
      "2 => banana\n",
      "3 => orange\n",
      "4 => kiwi\n",
      "5 => melon\n",
      "6 => mango\n"
     ]
    }
   ],
   "source": [
    "for idx, val, in enumerate(fruits):\n",
    "    print(f'{idx} => {val}')"
   ]
  },
  {
   "cell_type": "code",
   "execution_count": 10,
   "metadata": {},
   "outputs": [
    {
     "name": "stdout",
     "output_type": "stream",
     "text": [
      "apple\n",
      "banana\n",
      "kiwi\n",
      "mango\n"
     ]
    }
   ],
   "source": [
    "#index based selection\n",
    "for idx, val, in enumerate(fruits):\n",
    "    if idx % 2==0:\n",
    "        print(val)"
   ]
  },
  {
   "cell_type": "code",
   "execution_count": 11,
   "metadata": {},
   "outputs": [
    {
     "name": "stdout",
     "output_type": "stream",
     "text": [
      "apple\n",
      "cherry\n",
      "banana\n"
     ]
    }
   ],
   "source": [
    "#index based control\n",
    "for idx, val, in enumerate(fruits):\n",
    "    if idx == 3:\n",
    "        break\n",
    "    print(val)"
   ]
  },
  {
   "cell_type": "code",
   "execution_count": 13,
   "metadata": {},
   "outputs": [
    {
     "name": "stdout",
     "output_type": "stream",
     "text": [
      "1 5 9\n",
      "2 6 10\n",
      "3 7 11\n",
      "4 8 12\n"
     ]
    }
   ],
   "source": [
    "#zip function\n",
    "x=[1,2,3,4]\n",
    "y=[5,6,7,8]\n",
    "z=[9,10,11,12]\n",
    "\n",
    "for i,j,k in zip(x,y,z):\n",
    "    print(i,j,k)"
   ]
  },
  {
   "cell_type": "code",
   "execution_count": 15,
   "metadata": {},
   "outputs": [
    {
     "name": "stdout",
     "output_type": "stream",
     "text": [
      "15 18 21 24 "
     ]
    }
   ],
   "source": [
    "#zip the element wise operation\n",
    "for i,j,k in zip(x,y,z):\n",
    "    print(i+j+k, end=' ')"
   ]
  },
  {
   "cell_type": "code",
   "execution_count": 17,
   "metadata": {},
   "outputs": [
    {
     "name": "stdout",
     "output_type": "stream",
     "text": [
      "1\n",
      "2\n",
      "3\n",
      "4\n",
      "loop completed\n"
     ]
    }
   ],
   "source": [
    "for i in x:\n",
    "    print(i)\n",
    "else:\n",
    "    print('loop completed')"
   ]
  },
  {
   "cell_type": "code",
   "execution_count": 18,
   "metadata": {},
   "outputs": [
    {
     "name": "stdout",
     "output_type": "stream",
     "text": [
      "1\n",
      "2\n"
     ]
    }
   ],
   "source": [
    "for i in x:\n",
    "    if i == 3:\n",
    "        break\n",
    "    print(i)\n",
    "else:\n",
    "    print('loop completed')"
   ]
  },
  {
   "cell_type": "code",
   "execution_count": 23,
   "metadata": {},
   "outputs": [
    {
     "name": "stdout",
     "output_type": "stream",
     "text": [
      "prime number\n"
     ]
    }
   ],
   "source": [
    "x = 17\n",
    "for i in range(2, x):\n",
    "    if x % i == 0:\n",
    "        print(\"not prime\")\n",
    "        break\n",
    "else:\n",
    "    print (\"prime number\")\n"
   ]
  },
  {
   "cell_type": "code",
   "execution_count": 26,
   "metadata": {},
   "outputs": [
    {
     "name": "stdout",
     "output_type": "stream",
     "text": [
      "you entered 22\n"
     ]
    }
   ],
   "source": [
    "#while loop\n",
    "x = 0\n",
    "while x < 10:\n",
    "    x=int(input('enter a value of x:'))\n",
    "    print(f'you entered {x}')"
   ]
  },
  {
   "cell_type": "code",
   "execution_count": 2,
   "metadata": {},
   "outputs": [
    {
     "name": "stdout",
     "output_type": "stream",
     "text": [
      "22+33=55\n",
      "22+44=66\n"
     ]
    }
   ],
   "source": [
    "while True:\n",
    "    a=int(input('enter a value for a:'))\n",
    "    b=int(input('enter a value for b:'))\n",
    "    total = a + b\n",
    "    print(f'{a}+{b}={total}')\n",
    "    if input(\"do you want to cont.? y/n\" ) == 'n':\n",
    "        break"
   ]
  },
  {
   "cell_type": "code",
   "execution_count": 29,
   "metadata": {},
   "outputs": [
    {
     "name": "stdout",
     "output_type": "stream",
     "text": [
      " axAHASHSAAH\n",
      "\n"
     ]
    }
   ],
   "source": [
    "story = ' '\n",
    "while True:\n",
    "    line = input('enter a line')\n",
    "    if line:\n",
    "        story += line + '\\n'\n",
    "    else:\n",
    "        break\n",
    "    print(story)"
   ]
  },
  {
   "cell_type": "code",
   "execution_count": null,
   "metadata": {},
   "outputs": [],
   "source": []
  }
 ],
 "metadata": {
  "kernelspec": {
   "display_name": "base",
   "language": "python",
   "name": "python3"
  },
  "language_info": {
   "codemirror_mode": {
    "name": "ipython",
    "version": 3
   },
   "file_extension": ".py",
   "mimetype": "text/x-python",
   "name": "python",
   "nbconvert_exporter": "python",
   "pygments_lexer": "ipython3",
   "version": "3.10.10"
  },
  "orig_nbformat": 4
 },
 "nbformat": 4,
 "nbformat_minor": 2
}
