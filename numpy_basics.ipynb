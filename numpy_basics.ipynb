{
 "cells": [
  {
   "cell_type": "code",
   "execution_count": 2,
   "metadata": {},
   "outputs": [],
   "source": [
    "import numpy as np"
   ]
  },
  {
   "cell_type": "code",
   "execution_count": 4,
   "metadata": {},
   "outputs": [
    {
     "name": "stdout",
     "output_type": "stream",
     "text": [
      "[1 2 4]\n",
      "(3,)\n",
      "[[1 2 3]\n",
      " [4 5 6]]\n",
      "(2, 3)\n"
     ]
    }
   ],
   "source": [
    "a=np.array([1,2,4])\n",
    "print(a)\n",
    "print(a.shape)\n",
    "b=np.array([\n",
    "    [1,2,3],\n",
    "    [4,5,6]\n",
    "])\n",
    "print(b)\n",
    "print(b.shape)"
   ]
  },
  {
   "cell_type": "code",
   "execution_count": 11,
   "metadata": {},
   "outputs": [
    {
     "name": "stdout",
     "output_type": "stream",
     "text": [
      "[1.  1.2 1.4 1.6 1.8 2.  2.2 2.4 2.6 2.8 3.  3.2 3.4 3.6 3.8 4.  4.2 4.4\n",
      " 4.6 4.8 5.  5.2 5.4 5.6 5.8 6.  6.2 6.4 6.6 6.8 7.  7.2 7.4 7.6 7.8 8.\n",
      " 8.2 8.4 8.6 8.8 9.  9.2 9.4 9.6 9.8]\n",
      "(45,)\n",
      "[ 1.          1.47368421  1.94736842  2.42105263  2.89473684  3.36842105\n",
      "  3.84210526  4.31578947  4.78947368  5.26315789  5.73684211  6.21052632\n",
      "  6.68421053  7.15789474  7.63157895  8.10526316  8.57894737  9.05263158\n",
      "  9.52631579 10.        ]\n"
     ]
    }
   ],
   "source": [
    "c=np.arange(1,10,.2)#start,end ,step\n",
    "print(c)\n",
    "print(c.shape)\n",
    "d=np.linspace(1,10,20)#start,end,number of elements\n",
    "print(d)"
   ]
  },
  {
   "cell_type": "code",
   "execution_count": 12,
   "metadata": {},
   "outputs": [
    {
     "name": "stdout",
     "output_type": "stream",
     "text": [
      "1\n"
     ]
    }
   ],
   "source": [
    "print(c.ndim)"
   ]
  },
  {
   "cell_type": "code",
   "execution_count": 19,
   "metadata": {},
   "outputs": [
    {
     "name": "stdout",
     "output_type": "stream",
     "text": [
      "[[[1.  1.2 1.4 1.6 1.8]\n",
      "  [2.  2.2 2.4 2.6 2.8]\n",
      "  [3.  3.2 3.4 3.6 3.8]]\n",
      "\n",
      " [[4.  4.2 4.4 4.6 4.8]\n",
      "  [5.  5.2 5.4 5.6 5.8]\n",
      "  [6.  6.2 6.4 6.6 6.8]]\n",
      "\n",
      " [[7.  7.2 7.4 7.6 7.8]\n",
      "  [8.  8.2 8.4 8.6 8.8]\n",
      "  [9.  9.2 9.4 9.6 9.8]]]\n"
     ]
    }
   ],
   "source": [
    "print(c.reshape(3,3,5))"
   ]
  },
  {
   "cell_type": "code",
   "execution_count": 24,
   "metadata": {},
   "outputs": [
    {
     "data": {
      "text/plain": [
       "array([[739, 393, 947],\n",
       "       [429, 568, 808],\n",
       "       [355, 896, 358]])"
      ]
     },
     "execution_count": 24,
     "metadata": {},
     "output_type": "execute_result"
    }
   ],
   "source": [
    "np.random.randint(1,1066,(3,3))"
   ]
  },
  {
   "attachments": {},
   "cell_type": "markdown",
   "metadata": {},
   "source": [
    "maths in numpy\n"
   ]
  },
  {
   "cell_type": "code",
   "execution_count": 3,
   "metadata": {},
   "outputs": [],
   "source": [
    "x=np.array([\n",
    "    [2,3,4],\n",
    "    [5,6,7]\n",
    "])\n",
    "\n",
    "y=np.array([\n",
    "    [1,2,3],\n",
    "    [4,5,6]\n",
    "])"
   ]
  },
  {
   "cell_type": "code",
   "execution_count": 4,
   "metadata": {},
   "outputs": [
    {
     "name": "stdout",
     "output_type": "stream",
     "text": [
      "[[ 3  5  7]\n",
      " [ 9 11 13]]\n",
      "[[1 1 1]\n",
      " [1 1 1]]\n",
      "[[ 2  6 12]\n",
      " [20 30 42]]\n",
      "[[2.         1.5        1.33333333]\n",
      " [1.25       1.2        1.16666667]]\n",
      "[[     2      9     64]\n",
      " [   625   7776 117649]]\n",
      "[[2 3 4]\n",
      " [5 6 0]]\n"
     ]
    }
   ],
   "source": [
    "print(x+y) #element wise addition\n",
    "print(x-y) #.............subtraction\n",
    "print(x*y)#............multiplication\n",
    "print(x/y)#............division\n",
    "print(x**y)#element wise power\n",
    "print(x%7) #element wise modulus"
   ]
  },
  {
   "cell_type": "code",
   "execution_count": 5,
   "metadata": {},
   "outputs": [
    {
     "name": "stdout",
     "output_type": "stream",
     "text": [
      "[[ 4  6  8]\n",
      " [10 12 14]]\n",
      "[[1.  1.5 2. ]\n",
      " [2.5 3.  3.5]]\n",
      "[[ 4  9 16]\n",
      " [25 36 49]]\n",
      "[[0 1 0]\n",
      " [1 0 1]]\n"
     ]
    }
   ],
   "source": [
    "print(x*2)#scalar multiplication\n",
    "print(x/2)#scalar division\n",
    "print(x**2)#scalar power\n",
    "print(x%2) #scalar modulus"
   ]
  },
  {
   "cell_type": "code",
   "execution_count": 6,
   "metadata": {},
   "outputs": [
    {
     "name": "stdout",
     "output_type": "stream",
     "text": [
      "[[20 47]\n",
      " [38 92]]\n",
      "[[20 47]\n",
      " [38 92]]\n",
      "[[20 47]\n",
      " [38 92]]\n"
     ]
    }
   ],
   "source": [
    "#matrix multiplication\n",
    "print(x.dot(y.T))\n",
    "print(np.matmul(x,y.T))\n",
    "print(x @ y.T)"
   ]
  },
  {
   "cell_type": "code",
   "execution_count": 7,
   "metadata": {},
   "outputs": [
    {
     "name": "stdout",
     "output_type": "stream",
     "text": [
      "27\n",
      "[ 7  9 11]\n",
      "[ 9 18]\n",
      "4.5\n",
      "1.707825127659933\n",
      "2\n",
      "7\n"
     ]
    }
   ],
   "source": [
    "#statistical function\n",
    "print(x.sum()) #sum of all elements\n",
    "print(x.sum(axis=0)) #sum of columns\n",
    "print(x.sum(axis=1)) #sum of rows\n",
    "print(x.mean()) #mean of all elements\n",
    "print(x.std()) #standard deviation of all elements\n",
    "print(x.min()) #minimum of all elements\n",
    "print(x.max()) #max of all elements\n",
    " "
   ]
  },
  {
   "cell_type": "code",
   "execution_count": 8,
   "metadata": {},
   "outputs": [
    {
     "name": "stdout",
     "output_type": "stream",
     "text": [
      "[[ 0.90929743  0.14112001 -0.7568025 ]\n",
      " [-0.95892427 -0.2794155   0.6569866 ]]\n",
      "[[-0.41614684 -0.9899925  -0.65364362]\n",
      " [ 0.28366219  0.96017029  0.75390225]]\n",
      "[[-2.18503986 -0.14254654  1.15782128]\n",
      " [-3.38051501 -0.29100619  0.87144798]]\n"
     ]
    }
   ],
   "source": [
    "print(np.sin(x))\n",
    "print(np.cos(x))\n",
    "print(np.tan(x))"
   ]
  },
  {
   "cell_type": "code",
   "execution_count": 10,
   "metadata": {},
   "outputs": [
    {
     "name": "stdout",
     "output_type": "stream",
     "text": [
      "2\n",
      "[2 3 4]\n",
      "[2 5]\n",
      "[[2 3]\n",
      " [5 6]]\n",
      "[[2 3 4]\n",
      " [5 6 7]]\n"
     ]
    }
   ],
   "source": [
    "#indexing\n",
    "print(x[0,0]) #first row first column\n",
    "print(x[0,:]) #first row all columns\n",
    "print(x[:,0])#all rows first column\n",
    "print(x[:2,:2]) #first 2 rows, first 2 coumns\n",
    "print(x[:2]) #first 2 rows, all columns"
   ]
  },
  {
   "cell_type": "code",
   "execution_count": null,
   "metadata": {},
   "outputs": [],
   "source": []
  }
 ],
 "metadata": {
  "kernelspec": {
   "display_name": "base",
   "language": "python",
   "name": "python3"
  },
  "language_info": {
   "codemirror_mode": {
    "name": "ipython",
    "version": 3
   },
   "file_extension": ".py",
   "mimetype": "text/x-python",
   "name": "python",
   "nbconvert_exporter": "python",
   "pygments_lexer": "ipython3",
   "version": "3.10.10"
  },
  "orig_nbformat": 4
 },
 "nbformat": 4,
 "nbformat_minor": 2
}
