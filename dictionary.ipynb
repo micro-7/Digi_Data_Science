{
 "cells": [
  {
   "attachments": {},
   "cell_type": "markdown",
   "metadata": {},
   "source": [
    "### dictionary\n",
    "  - ordered\n",
    "  - mutable\n",
    "  - heterogenous\n",
    "  - key value pair\n",
    "        - key are immutable, and unique\n",
    "        - value can be mutable or immutable and can be duplicate and have any type\n",
    "  - unindexed\n",
    "  - represented by '{ }'\n",
    "  - dict() that can take key value pair as argument\n",
    "  "
   ]
  },
  {
   "attachments": {},
   "cell_type": "markdown",
   "metadata": {},
   "source": [
    "### creating"
   ]
  },
  {
   "cell_type": "code",
   "execution_count": 1,
   "metadata": {},
   "outputs": [],
   "source": [
    "fruits = {\n",
    "    'apple':2,\n",
    "    'banana':3,\n",
    "    'orange':5\n",
    "}"
   ]
  },
  {
   "cell_type": "code",
   "execution_count": 35,
   "metadata": {},
   "outputs": [],
   "source": [
    "grocery ={\n",
    "    'fruits':['apple','banana','orange','grape'],\n",
    "    'vegetables':['carrot', 'lettuce', 'onion'],\n",
    "    'diary':['milk','cheese','yogurt'],\n",
    "    'meat': None\n",
    "\n",
    "}"
   ]
  },
  {
   "cell_type": "code",
   "execution_count": 12,
   "metadata": {},
   "outputs": [],
   "source": [
    "reports={\n",
    "    'Rohan':{\n",
    "        'maths': 90,\n",
    "        'science': 80,\n",
    "        'english': 90,\n",
    "    },\n",
    "        'Roh':{\n",
    "        'maths': 903,\n",
    "        'science': 830,\n",
    "        'english': 930,\n",
    "    }\n",
    "}"
   ]
  },
  {
   "cell_type": "code",
   "execution_count": 13,
   "metadata": {},
   "outputs": [
    {
     "name": "stdout",
     "output_type": "stream",
     "text": [
      "{'apple': 2, 'banana': 3, 'orange': 5}\n",
      "{'fruits': ['apple', 'banana', 'orange', 'grape'], 'vegetables': ['carrot', 'lettuce', 'onion'], 'diary': ['milk', 'cheese', 'yogurt'], 'meat': None}\n",
      "{'Rohan': {'maths': 90, 'science': 80, 'english': 90}, 'Roh': {'maths': 903, 'science': 830, 'english': 930}}\n"
     ]
    }
   ],
   "source": [
    "print(fruits)\n",
    "print(grocery)\n",
    "print(reports)"
   ]
  },
  {
   "cell_type": "code",
   "execution_count": 8,
   "metadata": {},
   "outputs": [],
   "source": [
    "from pprint import pp"
   ]
  },
  {
   "cell_type": "code",
   "execution_count": 14,
   "metadata": {},
   "outputs": [
    {
     "name": "stdout",
     "output_type": "stream",
     "text": [
      "{'apple': 2, 'banana': 3, 'orange': 5}\n",
      "{'fruits': ['apple', 'banana', 'orange', 'grape'],\n",
      " 'vegetables': ['carrot', 'lettuce', 'onion'],\n",
      " 'diary': ['milk', 'cheese', 'yogurt'],\n",
      " 'meat': None}\n",
      "{'Rohan': {'maths': 90, 'science': 80, 'english': 90},\n",
      " 'Roh': {'maths': 903, 'science': 830, 'english': 930}}\n"
     ]
    }
   ],
   "source": [
    "pp(fruits)\n",
    "pp(grocery)\n",
    "pp(reports)"
   ]
  },
  {
   "attachments": {},
   "cell_type": "markdown",
   "metadata": {},
   "source": [
    "- fetch\n",
    "- updating\n",
    "- adding\n",
    "- deleting"
   ]
  },
  {
   "cell_type": "code",
   "execution_count": 18,
   "metadata": {},
   "outputs": [
    {
     "data": {
      "text/plain": [
       "2"
      ]
     },
     "execution_count": 18,
     "metadata": {},
     "output_type": "execute_result"
    }
   ],
   "source": [
    "fruits['apple'] #retrieve value from dictionary"
   ]
  },
  {
   "cell_type": "code",
   "execution_count": 19,
   "metadata": {},
   "outputs": [
    {
     "name": "stdout",
     "output_type": "stream",
     "text": [
      "{'apple': 10, 'banana': 3, 'orange': 5}\n"
     ]
    }
   ],
   "source": [
    "fruits['apple'] = 10 #update the value in dictionary\n",
    "pp(fruits)"
   ]
  },
  {
   "cell_type": "code",
   "execution_count": 21,
   "metadata": {},
   "outputs": [
    {
     "name": "stdout",
     "output_type": "stream",
     "text": [
      "{'apple': 10, 'banana': 3, 'orange': 5, 'mango': 25}\n"
     ]
    }
   ],
   "source": [
    "fruits['mango'] = 25 #adding new key value pair in dictionary\n",
    "pp(fruits)"
   ]
  },
  {
   "cell_type": "code",
   "execution_count": 23,
   "metadata": {},
   "outputs": [
    {
     "name": "stdout",
     "output_type": "stream",
     "text": [
      "{'fruits': ['apple', 'banana', 'orange', 'grape'],\n",
      " 'vegetables': ['carrot', 'lettuce', 'onion'],\n",
      " 'diary': ['milk', 'cheese', 'yogurt'],\n",
      " 'meat': None,\n",
      " 'spices': ['cumin', 'coriander', 'tumeric']}\n"
     ]
    }
   ],
   "source": [
    "grocery['spices']=['cumin', 'coriander', 'tumeric']\n",
    "pp(grocery)"
   ]
  },
  {
   "cell_type": "code",
   "execution_count": 27,
   "metadata": {},
   "outputs": [
    {
     "name": "stdout",
     "output_type": "stream",
     "text": [
      "{'fruits': ['apple', 'banana', 'orange', 'grape', 'mango'],\n",
      " 'vegetables': ['carrot', 'lettuce', 'onion'],\n",
      " 'diary': ['milk', 'cheese', 'yogurt'],\n",
      " 'meat': None}\n"
     ]
    }
   ],
   "source": [
    "grocery['fruits'].append('mango')#add new value in list\n",
    "pp(grocery)"
   ]
  },
  {
   "cell_type": "code",
   "execution_count": 29,
   "metadata": {},
   "outputs": [
    {
     "name": "stdout",
     "output_type": "stream",
     "text": [
      "{'Rohan': {'maths': 90, 'science': 80, 'english': 90, 'evs': 99},\n",
      " 'Roh': {'maths': 903, 'science': 830, 'english': 930}}\n"
     ]
    }
   ],
   "source": [
    "reports['Rohan']['evs']=99  # to add new key in dictionary\n",
    "pp(reports)"
   ]
  },
  {
   "cell_type": "code",
   "execution_count": 30,
   "metadata": {},
   "outputs": [
    {
     "data": {
      "text/plain": [
       "3"
      ]
     },
     "execution_count": 30,
     "metadata": {},
     "output_type": "execute_result"
    }
   ],
   "source": [
    "fruits.pop('banana') # remove key value pair from dictionary"
   ]
  },
  {
   "cell_type": "code",
   "execution_count": 31,
   "metadata": {},
   "outputs": [
    {
     "data": {
      "text/plain": [
       "{'maths': 90, 'science': 80, 'english': 90, 'evs': 99}"
      ]
     },
     "execution_count": 31,
     "metadata": {},
     "output_type": "execute_result"
    }
   ],
   "source": [
    "reports.pop('Rohan')"
   ]
  },
  {
   "cell_type": "code",
   "execution_count": 32,
   "metadata": {},
   "outputs": [
    {
     "name": "stdout",
     "output_type": "stream",
     "text": [
      "{'fruits': ['apple', 'banana', 'orange', 'grape', 'mango'],\n",
      " 'vegetables': ['carrot', 'lettuce', 'onion'],\n",
      " 'diary': ['milk', 'cheese', 'yogurt'],\n",
      " 'meat': None}\n"
     ]
    }
   ],
   "source": [
    "pp(grocery)"
   ]
  },
  {
   "cell_type": "code",
   "execution_count": 36,
   "metadata": {},
   "outputs": [
    {
     "name": "stdout",
     "output_type": "stream",
     "text": [
      "{'fruits': ['apple', 'banana', 'orange', 'grape'],\n",
      " 'vegetables': ['carrot', 'lettuce'],\n",
      " 'diary': ['milk', 'cheese', 'yogurt'],\n",
      " 'meat': None}\n"
     ]
    }
   ],
   "source": [
    "grocery['vegetables'].remove('onion') # remove value from list\n",
    "pp(grocery)"
   ]
  },
  {
   "cell_type": "code",
   "execution_count": 38,
   "metadata": {},
   "outputs": [
    {
     "data": {
      "text/plain": [
       "dict_keys(['apple', 'orange', 'mango'])"
      ]
     },
     "execution_count": 38,
     "metadata": {},
     "output_type": "execute_result"
    }
   ],
   "source": [
    "fruits.keys() #get all keys from dictionary"
   ]
  },
  {
   "cell_type": "code",
   "execution_count": 39,
   "metadata": {},
   "outputs": [
    {
     "data": {
      "text/plain": [
       "dict_values([10, 5, 25])"
      ]
     },
     "execution_count": 39,
     "metadata": {},
     "output_type": "execute_result"
    }
   ],
   "source": [
    "fruits.values() #get all values from dictionary"
   ]
  },
  {
   "cell_type": "code",
   "execution_count": 40,
   "metadata": {},
   "outputs": [
    {
     "data": {
      "text/plain": [
       "dict_items([('apple', 10), ('orange', 5), ('mango', 25)])"
      ]
     },
     "execution_count": 40,
     "metadata": {},
     "output_type": "execute_result"
    }
   ],
   "source": [
    "fruits.items() #get all key value pair from dictionary"
   ]
  },
  {
   "cell_type": "code",
   "execution_count": 43,
   "metadata": {},
   "outputs": [
    {
     "name": "stdout",
     "output_type": "stream",
     "text": [
      "apple 10\n",
      "orange 5\n",
      "mango 25\n"
     ]
    }
   ],
   "source": [
    "#traversal\n",
    "for k,v in fruits.items():\n",
    "    print(k,v)"
   ]
  },
  {
   "cell_type": "code",
   "execution_count": 44,
   "metadata": {},
   "outputs": [
    {
     "data": {
      "text/plain": [
       "930"
      ]
     },
     "execution_count": 44,
     "metadata": {},
     "output_type": "execute_result"
    }
   ],
   "source": [
    "reports['Roh']['english']"
   ]
  },
  {
   "cell_type": "code",
   "execution_count": 48,
   "metadata": {},
   "outputs": [
    {
     "data": {
      "text/plain": [
       "{'maths': 903, 'science': 830, 'english': 930}"
      ]
     },
     "execution_count": 48,
     "metadata": {},
     "output_type": "execute_result"
    }
   ],
   "source": [
    "reports.get('Roh') #use of get function"
   ]
  },
  {
   "cell_type": "code",
   "execution_count": 49,
   "metadata": {},
   "outputs": [
    {
     "data": {
      "text/plain": [
       "{'maths': 903, 'science': 830, 'english': 930}"
      ]
     },
     "execution_count": 49,
     "metadata": {},
     "output_type": "execute_result"
    }
   ],
   "source": [
    "reports.get('Roh','nah hei') #use of get function"
   ]
  },
  {
   "cell_type": "code",
   "execution_count": 50,
   "metadata": {},
   "outputs": [
    {
     "data": {
      "text/plain": [
       "'nah hei'"
      ]
     },
     "execution_count": 50,
     "metadata": {},
     "output_type": "execute_result"
    }
   ],
   "source": [
    "reports.get('Rohaaan','nah hei') #use of get function"
   ]
  },
  {
   "cell_type": "code",
   "execution_count": 52,
   "metadata": {},
   "outputs": [
    {
     "name": "stdout",
     "output_type": "stream",
     "text": [
      "{'Roh': {'maths': 903, 'science': 830, 'english': 930},\n",
      " 'Rohan': {'english': 90, 'math': 99, 'science': 88}}\n"
     ]
    }
   ],
   "source": [
    "reports['Rohan']={\n",
    "    'english':90,\n",
    "    'math':99,\n",
    "    'science':88\n",
    "}\n",
    "pp(reports)"
   ]
  },
  {
   "cell_type": "code",
   "execution_count": 54,
   "metadata": {},
   "outputs": [
    {
     "name": "stdout",
     "output_type": "stream",
     "text": [
      "Roh\n",
      "903 in maths\n",
      "830 in science\n",
      "930 in english\n",
      "........................\n",
      "Rohan\n",
      "90 in english\n",
      "99 in math\n",
      "88 in science\n",
      "........................\n"
     ]
    }
   ],
   "source": [
    "for student, details in reports.items():\n",
    "    print(student)\n",
    "    for subject, marks in details.items():\n",
    "        print(f'{marks} in {subject}')\n",
    "    print('...'*8)"
   ]
  },
  {
   "attachments": {},
   "cell_type": "markdown",
   "metadata": {},
   "source": [
    "# create a dictionary of 5 employee with details\n",
    "    - name : str\n",
    "    - department : str\n",
    "    - salary : int\n",
    "    - skills : list\n",
    "    - projects :dict\n",
    "        - project_name : str\n",
    "        - project_duration : int\n",
    "        - project_technologies : list  "
   ]
  },
  {
   "cell_type": "code",
   "execution_count": 62,
   "metadata": {},
   "outputs": [],
   "source": [
    "emps = {\n",
    "    'e1':{\n",
    "        'name':'alex',\n",
    "        'department':'HR',\n",
    "        'salary':10000,\n",
    "        'skills':['communication','management'],\n",
    "        'projects':{\n",
    "            'projects1':{\n",
    "                'project_name': 'HRMS',\n",
    "                'project_duration': 6,\n",
    "                'project_technologies': ['excel', 'power bi', 'powerpoint']\n",
    "            }\n",
    "        }\n",
    "    },\n",
    "    'e1':{\n",
    "        'name':'sam',\n",
    "        'department':'IT',\n",
    "        'salary':1000220,\n",
    "        'skills':['communication','management','coding'],\n",
    "        'projects':{\n",
    "            'projects1':{\n",
    "                'project_name': 'xyz',\n",
    "                'project_duration': 9,\n",
    "                'project_technologies': ['excel', 'power bi', 'powerpoint', 'python'],\n",
    "            },\n",
    "            'projects1':{\n",
    "                'project_name': 'xyz',\n",
    "                'project_duration': 9,\n",
    "                'project_technologies': ['excel', 'power bi', 'powerpoint', 'python'],\n",
    "            }\n",
    "            \n",
    "        }\n",
    "        \n",
    "    },\n",
    "    \n",
    "}"
   ]
  },
  {
   "cell_type": "code",
   "execution_count": null,
   "metadata": {},
   "outputs": [],
   "source": []
  }
 ],
 "metadata": {
  "kernelspec": {
   "display_name": "base",
   "language": "python",
   "name": "python3"
  },
  "language_info": {
   "codemirror_mode": {
    "name": "ipython",
    "version": 3
   },
   "file_extension": ".py",
   "mimetype": "text/x-python",
   "name": "python",
   "nbconvert_exporter": "python",
   "pygments_lexer": "ipython3",
   "version": "3.10.10"
  },
  "orig_nbformat": 4
 },
 "nbformat": 4,
 "nbformat_minor": 2
}
