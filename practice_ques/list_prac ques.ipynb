{
 "cells": [
  {
   "cell_type": "code",
   "execution_count": 5,
   "metadata": {},
   "outputs": [
    {
     "name": "stdout",
     "output_type": "stream",
     "text": [
      "List of numbers: [2, 34, 4]\n"
     ]
    }
   ],
   "source": [
    "#Write a program that creates an empty list and then asks the user to input integers to add to the list. Print the final list.\n",
    "\n",
    "list = []  #empty list\n",
    "while True:\n",
    "    num = input(\"Enter an integer (or any non-integer value to stop): \")\n",
    "    if num.isdigit():\n",
    "        list.append(int(num))  #adding integer\n",
    "    else:\n",
    "        break  #if non interger is entered exit\n",
    "print(\"List of numbers:\", list)\n"
   ]
  },
  {
   "cell_type": "code",
   "execution_count": 7,
   "metadata": {},
   "outputs": [
    {
     "name": "stdout",
     "output_type": "stream",
     "text": [
      "The number 99 does not exist in the list.\n"
     ]
    }
   ],
   "source": [
    "#Write a program that creates a list of integers and then asks the user to input an integer to check if it exists in the list\n",
    "\n",
    "numbers = [1, 2, 3, 4, 5] \n",
    "num = int(input(\"Enter an integer to check if it exists in the list: \"))\n",
    "if num in numbers:\n",
    "    print(f\"The number {num} exists in the list.\")\n",
    "else:\n",
    "    print(f\"The number {num} does not exist in the list.\")"
   ]
  },
  {
   "cell_type": "code",
   "execution_count": 15,
   "metadata": {},
   "outputs": [
    {
     "name": "stdout",
     "output_type": "stream",
     "text": [
      "Sorted list of strings: ['apple', 'banana', 'cherry', 'date', 'kiwi']\n"
     ]
    }
   ],
   "source": [
    "#Write a program that creates a list of strings and then sorts the list alphabetically.\n",
    "\n",
    "strings = [\"apple\",\"date\", \"kiwi\",\"banana\", \"cherry\" ]\n",
    "sorted_strings = sorted(strings)\n",
    "print(\"Sorted list of strings:\", sorted_strings)"
   ]
  },
  {
   "cell_type": "code",
   "execution_count": 11,
   "metadata": {},
   "outputs": [
    {
     "name": "stdout",
     "output_type": "stream",
     "text": [
      "Maximum value in the list: 85656\n"
     ]
    }
   ],
   "source": [
    "#Write a program that creates a list of integers and then finds the maximum value in the list\n",
    "\n",
    "numbers = [10767, 577, 85656, 2067, 37] \n",
    "max_value = max(numbers) \n",
    "print(\"Maximum value in the list:\", max_value)\n"
   ]
  },
  {
   "cell_type": "code",
   "execution_count": 16,
   "metadata": {},
   "outputs": [
    {
     "name": "stdout",
     "output_type": "stream",
     "text": [
      "Common elements: {4, 5}\n"
     ]
    }
   ],
   "source": [
    "#Write a program that creates two lists of integers and then finds the common elements between those two lists. Print the common elements.\n",
    "\n",
    "list1 = [1, 2, 3, 4, 5] \n",
    "list2 = [4, 5, 6, 7, 8]  \n",
    "common_elements = set(list1).intersection(list2)\n",
    "print(\"Common elements:\", common_elements)"
   ]
  },
  {
   "cell_type": "code",
   "execution_count": 4,
   "metadata": {},
   "outputs": [
    {
     "name": "stdout",
     "output_type": "stream",
     "text": [
      "orignal--> ['apple', 'banana', 'cherry', 'banana2']\n",
      "Filtered list of strings--> ['apple', 'cherry']\n"
     ]
    }
   ],
   "source": [
    "#Write a program that creates a list of strings and then removes all elements that contain a specific substring\n",
    "\n",
    "strings = [\"apple\", \"banana\", \"cherry\", \"banana2\"]\n",
    "substring = \"an\"\n",
    "print('orignal-->',strings)\n",
    "for s in strings:\n",
    "    if substring in s:\n",
    "        strings.remove(s)\n",
    "print(\"Filtered list of strings-->\", strings)"
   ]
  },
  {
   "cell_type": "code",
   "execution_count": 34,
   "metadata": {},
   "outputs": [
    {
     "name": "stdout",
     "output_type": "stream",
     "text": [
      "Ans--> 2\n"
     ]
    }
   ],
   "source": [
    "#Write a program that creates a nested list and then accesses a specific element in the list\n",
    "\n",
    "nested_list = [[1, 2, 3], [4, 5, 6], [7, 8, 9]]\n",
    "list_index = 0\n",
    "specific_index = 1\n",
    "element = nested_list[list_index][specific_index]\n",
    "print(\"Ans-->\", element)\n"
   ]
  },
  {
   "cell_type": "code",
   "execution_count": 45,
   "metadata": {},
   "outputs": [
    {
     "name": "stdout",
     "output_type": "stream",
     "text": [
      "List without duplicates: {1, 2, 3, 4, 5, 6, 7, 8}\n"
     ]
    }
   ],
   "source": [
    "#Write a program that creates a list of integers and then removes all duplicates from the list.\n",
    "numbers = [1, 2, 3, 2, 4, 5, 3, 6, 6, 7, 8, 8] \n",
    "unique_numbers = set(numbers)#set function only contain unique elements\n",
    "print(\"List without duplicates:\", unique_numbers)"
   ]
  },
  {
   "cell_type": "code",
   "execution_count": 48,
   "metadata": {},
   "outputs": [
    {
     "name": "stdout",
     "output_type": "stream",
     "text": [
      "Sabse bari string: helloooooooooo\n"
     ]
    }
   ],
   "source": [
    "#Write a program that creates a list of strings and then finds the longest string in the list\n",
    "\n",
    "strings = [\"hello\", \"helloo\", \"hellooo\", \"helloooooooooo\"] \n",
    "longest_string = max(strings, key=len)\n",
    "print(\"Sabse bari string:\", longest_string)"
   ]
  },
  {
   "cell_type": "code",
   "execution_count": 51,
   "metadata": {},
   "outputs": [
    {
     "name": "stdout",
     "output_type": "stream",
     "text": [
      "ans--> 30\n"
     ]
    }
   ],
   "source": [
    "#Write a program that creates a list of integers and then finds the sum of all the even numbers in the list\n",
    "\n",
    "numbers = [1, 2, 3, 4, 5, 6, 7, 8, 9, 10] \n",
    "even_sum = sum(num for num in numbers if num % 2 == 0)\n",
    "print(\"ans-->\", even_sum)\n"
   ]
  },
  {
   "cell_type": "code",
   "execution_count": 55,
   "metadata": {},
   "outputs": [
    {
     "name": "stdout",
     "output_type": "stream",
     "text": [
      "ans--> [10, 20, 40, 50]\n"
     ]
    }
   ],
   "source": [
    "# Write a program that creates a list of integers and then asks the user to input a position to remove an element from the list\n",
    "\n",
    "numbers = [10, 20, 30, 40, 50] \n",
    "position = int(input(\"Enter the position to remove (starting from 0): \"))\n",
    "if 0 <= position < len(numbers):\n",
    "    removed_element = numbers.pop(position)\n",
    "    print(\"ans-->\", numbers)\n",
    "else:\n",
    "    print(\"wrong input\")\n",
    "\n"
   ]
  },
  {
   "cell_type": "code",
   "execution_count": 3,
   "metadata": {},
   "outputs": [
    {
     "name": "stdout",
     "output_type": "stream",
     "text": [
      "Mihir Tandon\n"
     ]
    }
   ],
   "source": [
    "#Write a program that creates a list of strings and then concatenates all the strings into a single string\n",
    "\n",
    "string_list = ['Mihir', ' ', 'Tandon']\n",
    "concatenated_string = ''\n",
    "for string in string_list:\n",
    "    concatenated_string += string\n",
    "print(concatenated_string)"
   ]
  },
  {
   "cell_type": "code",
   "execution_count": 8,
   "metadata": {},
   "outputs": [
    {
     "name": "stdout",
     "output_type": "stream",
     "text": [
      "  my name is Mihir tandon\n"
     ]
    }
   ],
   "source": [
    "#Write a program that creates a list of strings and then concatenates all the strings into a single string\n",
    "\n",
    "string = [ 'my', 'name', 'is',\n",
    "'Mihir', 'tandon']\n",
    "con_string = ' '\n",
    "for s in string:\n",
    "    con_string = con_string+ ' '+ s\n",
    "print(con_string)"
   ]
  },
  {
   "cell_type": "code",
   "execution_count": 9,
   "metadata": {},
   "outputs": [
    {
     "name": "stdout",
     "output_type": "stream",
     "text": [
      "Median of list is : 8.5\n"
     ]
    }
   ],
   "source": [
    "#Write a program that creates a list of integers and then finds the median value of the list\n",
    "my_list = [4, 5, 8, 9, 10, 17]\n",
    "my_list.sort()\n",
    "mid = len(my_list) // 2\n",
    "res = (my_list[mid] + my_list[~mid]) / 2\n",
    "print(\"Median of list is : \" + str(res))\n"
   ]
  },
  {
   "cell_type": "code",
   "execution_count": 11,
   "metadata": {},
   "outputs": [
    {
     "name": "stdout",
     "output_type": "stream",
     "text": [
      "Median of list is : 8.5\n"
     ]
    }
   ],
   "source": [
    "#Write a program that creates a list of integers and then finds the median value of the list\n",
    "\n",
    "import statistics\n",
    "test_list = [4, 5, 8, 9, 10, 17]\n",
    "res = statistics.median(test_list)\n",
    "print(\"Median of list is : \" + str(res))"
   ]
  },
  {
   "cell_type": "code",
   "execution_count": 12,
   "metadata": {},
   "outputs": [
    {
     "name": "stdout",
     "output_type": "stream",
     "text": [
      "['tandon', 'mihir', 'am', 'i']\n"
     ]
    }
   ],
   "source": [
    "#Write a program that creates a list of strings and then reverses the order of the strings in the list.\n",
    "\n",
    "my_list = ['i', 'am', 'mihir', 'tandon']\n",
    "reversed_list = my_list[::-1]\n",
    "print(reversed_list)"
   ]
  },
  {
   "cell_type": "code",
   "execution_count": 13,
   "metadata": {},
   "outputs": [
    {
     "name": "stdout",
     "output_type": "stream",
     "text": [
      "Average: 18.0\n"
     ]
    }
   ],
   "source": [
    "#Write a program that creates a list of integers and then calculates the average of all the numbers in the list\n",
    "\n",
    "my_list = [4, 8, 15, 16, 23, 42]\n",
    "total_sum = sum(my_list)\n",
    "average = total_sum / len(my_list)\n",
    "print(\"Average:\", average)\n"
   ]
  },
  {
   "cell_type": "code",
   "execution_count": 19,
   "metadata": {},
   "outputs": [
    {
     "name": "stdout",
     "output_type": "stream",
     "text": [
      "Index of 3 : 3\n"
     ]
    }
   ],
   "source": [
    "#Write a program that creates a list of integers and then finds the index of a specific element in the list\n",
    "\n",
    "my_list = [5, 8, 12, 3, 7, 10]\n",
    "num=int(input('enter no.'))\n",
    "if num in my_list:\n",
    "    index = my_list.index(num)\n",
    "    print(\"Index of\", num, \":\", index)\n",
    "else:\n",
    "    print('wrong input')"
   ]
  },
  {
   "cell_type": "code",
   "execution_count": 25,
   "metadata": {},
   "outputs": [
    {
     "name": "stdout",
     "output_type": "stream",
     "text": [
      "Given list: ['Mihir Tandon', 'Mihir    ', '  Tandon      ']\n",
      "cleaned_list: ['MihirTandon', 'Mihir', 'Tandon']\n"
     ]
    }
   ],
   "source": [
    "# Write a program that creates a list of strings and then removes all whitespace characters from each string in the list\n",
    "my_list = ['Mihir Tandon', 'Mihir    ', '  Tandon      ']\n",
    "print('Given list:',my_list)\n",
    "cleaned_list = [string.replace(\" \", \"\") for string in my_list]\n",
    "print('cleaned_list:',cleaned_list)"
   ]
  },
  {
   "cell_type": "code",
   "execution_count": 26,
   "metadata": {},
   "outputs": [
    {
     "name": "stdout",
     "output_type": "stream",
     "text": [
      "[1340, 1232, 823, 734, 523, 33]\n"
     ]
    }
   ],
   "source": [
    "# Write a program that creates a list of integers and then sorts the list in descending order\n",
    "my_list = [523, 823, 1232, 33, 734, 1340]\n",
    "my_list.sort(reverse=True)\n",
    "print(my_list)\n"
   ]
  },
  {
   "cell_type": "code",
   "execution_count": 29,
   "metadata": {},
   "outputs": [
    {
     "name": "stdout",
     "output_type": "stream",
     "text": [
      "Final List: [123123213, 523, 238, 12423, 3243, 7243, 10234]\n"
     ]
    }
   ],
   "source": [
    "#Write a program that creates a list of integers and then asks the user to input a value to add to the list. Add the value to the beginning of the list and print the final list.\n",
    "\n",
    "my_list = [523, 238, 12423, 3243, 7243, 10234]\n",
    "value = int(input(\"Enter a value: \"))\n",
    "my_list.insert(0, value)\n",
    "print(\"Final List:\", my_list)\n"
   ]
  },
  {
   "cell_type": "code",
   "execution_count": 1,
   "metadata": {},
   "outputs": [
    {
     "name": "stdout",
     "output_type": "stream",
     "text": [
      "[32341, 2342, 2343, 4234, 3245, 234, 62344]\n"
     ]
    }
   ],
   "source": [
    "#Write a program that creates two lists of integers and then concatenates those two lists into a single list\n",
    "\n",
    "peheli_list = [32341, 2342, 2343]\n",
    "doosri_list = [4234, 3245, 234, 62344]\n",
    "concatenated_list = peheli_list + doosri_list\n",
    "print(concatenated_list)\n"
   ]
  },
  {
   "cell_type": "code",
   "execution_count": null,
   "metadata": {},
   "outputs": [],
   "source": [
    "#Write a program that uses the map function to create a new list that contains the squares of each element in a user inputted list of integers.\n",
    "\n",
    "     "
   ]
  },
  {
   "cell_type": "code",
   "execution_count": null,
   "metadata": {},
   "outputs": [],
   "source": []
  }
 ],
 "metadata": {
  "kernelspec": {
   "display_name": "base",
   "language": "python",
   "name": "python3"
  },
  "language_info": {
   "codemirror_mode": {
    "name": "ipython",
    "version": 3
   },
   "file_extension": ".py",
   "mimetype": "text/x-python",
   "name": "python",
   "nbconvert_exporter": "python",
   "pygments_lexer": "ipython3",
   "version": "3.10.10"
  },
  "orig_nbformat": 4
 },
 "nbformat": 4,
 "nbformat_minor": 2
}
